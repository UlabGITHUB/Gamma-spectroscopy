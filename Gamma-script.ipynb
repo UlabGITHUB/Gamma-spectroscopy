{
 "cells": [
  {
   "cell_type": "code",
   "execution_count": 1,
   "id": "aa18a9d7",
   "metadata": {},
   "outputs": [],
   "source": [
    "import numpy as np\n",
    "import matplotlib.pyplot as plt\n"
   ]
  },
  {
   "cell_type": "code",
   "execution_count": 2,
   "id": "2af43cdd",
   "metadata": {},
   "outputs": [
    {
     "name": "stdout",
     "output_type": "stream",
     "text": [
      "(20000,)\n",
      "(20000,)\n"
     ]
    },
    {
     "data": {
      "text/plain": [
       "<BarContainer object of 50 artists>"
      ]
     },
     "execution_count": 2,
     "metadata": {},
     "output_type": "execute_result"
    },
    {
     "data": {
      "image/png": "[encoded data removed]",
      "text/plain": [
       "<Figure size 432x288 with 1 Axes>"
      ]
     },
     "metadata": {
      "needs_background": "light"
     },
     "output_type": "display_data"
    }
   ],
   "source": [
    "def import_hist(filename):\n",
    "    data=np.genfromtxt(filename,skip_header=1)\n",
    "    print(data.shape)\n",
    "    data.sort()\n",
    "    return data\n",
    "\n",
    "def xmax(data,M=None):\n",
    "    if M is None:\n",
    "        pass\n",
    "    else:\n",
    "        data=data[data<M]\n",
    "    return data\n",
    "\n",
    "data_bg=import_hist('Det01-baggrund-01.csv')\n",
    "data_kilde=import_hist('Det01-CO60-01.csv')\n",
    "M=None\n",
    "data_bg=xmax(data_bg,M)\n",
    "data_kilde=xmax(data_kilde,M)\n",
    "rng=np.min([data_bg.min(),data_kilde.min()]),np.max([data_bg.max(),data_kilde.max()])\n",
    "height_bg,bin_edges_bg=np.histogram(data_bg,bins=50,range=rng, density=False)\n",
    "height_kilde,bin_edges_kilde=np.histogram(data_kilde,bins=50,range=rng, density=False)\n",
    "\n",
    "height=height_kilde-height_bg\n",
    "x=(bin_edges_bg[1:]+bin_edges_bg[:-1])/2\n",
    "width=(bin_edges_bg[1]-bin_edges_bg[0])\n",
    "plt.figure()\n",
    "plt.bar(x,height,width)"
   ]
  },
  {
   "cell_type": "code",
   "execution_count": 3,
   "id": "1b4b7157",
   "metadata": {},
   "outputs": [
    {
     "name": "stdout",
     "output_type": "stream",
     "text": [
      "(5946,)\n"
     ]
    },
    {
     "data": {
      "text/plain": [
       "<BarContainer object of 100 artists>"
      ]
     },
     "execution_count": 3,
     "metadata": {},
     "output_type": "execute_result"
    },
    {
     "data": {
      "image/png": "[encoded data removed]",
      "text/plain": [
       "<Figure size 432x288 with 1 Axes>"
      ]
     },
     "metadata": {
      "needs_background": "light"
     },
     "output_type": "display_data"
    }
   ],
   "source": [
    "data=np.genfromtxt('PET_Det01-Na22-01.csv',skip_header=2,delimiter=',')[:,0]\n",
    "print(data.shape)\n",
    "data.sort()\n",
    "M=None\n",
    "if M is None:\n",
    "    pass\n",
    "else:\n",
    "    data=data[data<M]\n",
    "height,bin_edges=np.histogram(data,bins=100)\n",
    "x=(bin_edges[1:]+bin_edges[:-1])/2\n",
    "width=(bin_edges[1]-bin_edges[0])\n",
    "plt.figure()\n",
    "plt.bar(x,height,width)"
   ]
  }
 ],
 "metadata": {
  "kernelspec": {
   "display_name": "Python 3 (ipykernel)",
   "language": "python",
   "name": "python3"
  },
  "language_info": {
   "codemirror_mode": {
    "name": "ipython",
    "version": 3
   },
   "file_extension": ".py",
   "mimetype": "text/x-python",
   "name": "python",
   "nbconvert_exporter": "python",
   "pygments_lexer": "ipython3",
   "version": "3.8.12"
  }
 },
 "nbformat": 4,
 "nbformat_minor": 5
}
